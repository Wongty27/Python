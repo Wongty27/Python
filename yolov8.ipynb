{
 "cells": [
  {
   "cell_type": "code",
   "execution_count": null,
   "metadata": {},
   "outputs": [],
   "source": [
    "import cv2\n",
    "import torch\n",
    "import pandas as pd\n",
    "from collections import defaultdict\n",
    "from ultralytics import YOLO\n",
    "import supervision as sv"
   ]
  },
  {
   "cell_type": "code",
   "execution_count": null,
   "metadata": {},
   "outputs": [],
   "source": [
    "YOLO_WEIGHT = 'yolov8n.pt'\n",
    "CUSTOM_WEIGHT = 'runs/detect/train/weights/best.pt'\n",
    "TEST_VIDEO = 'sample2.mp4'\n",
    "\n",
    "device = torch.device('cuda' if torch.cuda.is_available() else 'cpu')\n",
    "torch.cuda.is_available()\n",
    "model = YOLO(YOLO_WEIGHT)"
   ]
  },
  {
   "cell_type": "code",
   "execution_count": null,
   "metadata": {},
   "outputs": [],
   "source": [
    "# Supervision as frame generator\n",
    "generator = sv.get_video_frames_generator(TEST_VIDEO)\n",
    "count = 1\n",
    "model = YOLO(YOLO_WEIGHT)\n",
    "classNames = model.names\n",
    "annotator = sv.BoxAnnotator(thickness=2, text_thickness=1, text_scale=1)\n",
    "d = []\n",
    "track_history = defaultdict(lambda: [])\n",
    "video_info = sv.VideoInfo.from_video_path(TEST_VIDEO)\n",
    " \n",
    "with sv.VideoSink(target_path='result.mp4', video_info=video_info) as sink:\n",
    "    for frame in generator:\n",
    "        \n",
    "        count += 1\n",
    "        results = model.track(\n",
    "            source=frame,\n",
    "            persist=True,\n",
    "            stream=True,\n",
    "            agnostic_nms=True,\n",
    "            device=device\n",
    "        )\n",
    "\n",
    "        for r in results:\n",
    "            annotated_frame = r.plot()\n",
    "\n",
    "            boxes = r.boxes.cpu().numpy()\n",
    "            xyxys = boxes.xyxy\n",
    "\n",
    "            labels = [\n",
    "                f'#{count} {xyxys}'\n",
    "            ]\n",
    "\n",
    "            detections = sv.Detections.from_ultralytics(r)\n",
    "            detections = detections[detections.class_id == 0]\n",
    "            annotator = sv.BoxAnnotator()\n",
    "            annotated_frame = annotator.annotate(\n",
    "                scene=frame.copy(),\n",
    "                detections=detections,\n",
    "                labels=labels\n",
    "            )\n",
    "\n",
    "            d.append(\n",
    "                 {\n",
    "                      'frame': count,\n",
    "                      'xyxy': xyxys\n",
    "                 }\n",
    "            )\n",
    "\n",
    "        sink.write_frame(frame=annotated_frame)\n",
    "        cv2.imshow(\"YOLOv8\", annotated_frame)\n",
    "        \n",
    "        df = pd.DataFrame(d)\n",
    "        df.to_csv('result.csv')\n",
    "\n",
    "        if cv2.waitKey(1) & 0xFF == ord('q'):\n",
    "            break\n",
    "\n",
    "cv2.destroyAllWindows()"
   ]
  }
 ],
 "metadata": {
  "kernelspec": {
   "display_name": "sv3",
   "language": "python",
   "name": "python3"
  },
  "language_info": {
   "codemirror_mode": {
    "name": "ipython",
    "version": 3
   },
   "file_extension": ".py",
   "mimetype": "text/x-python",
   "name": "python",
   "nbconvert_exporter": "python",
   "pygments_lexer": "ipython3",
   "version": "3.10.12"
  }
 },
 "nbformat": 4,
 "nbformat_minor": 2
}
